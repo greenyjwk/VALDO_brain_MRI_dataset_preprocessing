{
 "cells": [
  {
   "cell_type": "code",
   "execution_count": 1,
   "metadata": {},
   "outputs": [],
   "source": [
    "from PIL import Image\n",
    "from pathlib import Path\n",
    "import matplotlib.pyplot as plt\n",
    "import numpy as np\n",
    "import os"
   ]
  },
  {
   "cell_type": "code",
   "execution_count": 2,
   "metadata": {},
   "outputs": [
    {
     "ename": "IndexError",
     "evalue": "too many indices for array: array is 2-dimensional, but 3 were indexed",
     "output_type": "error",
     "traceback": [
      "\u001b[0;31m---------------------------------------------------------------------------\u001b[0m",
      "\u001b[0;31mIndexError\u001b[0m                                Traceback (most recent call last)",
      "Cell \u001b[0;32mIn[2], line 48\u001b[0m\n\u001b[1;32m     46\u001b[0m \u001b[38;5;66;03m# Visualize each image with its bounding boxes on separate channels\u001b[39;00m\n\u001b[1;32m     47\u001b[0m \u001b[38;5;28;01mfor\u001b[39;00m image_id, bboxes \u001b[38;5;129;01min\u001b[39;00m bboxes_by_image\u001b[38;5;241m.\u001b[39mitems():\n\u001b[0;32m---> 48\u001b[0m     \u001b[43mvisualize_image_with_bboxes\u001b[49m\u001b[43m(\u001b[49m\u001b[43mimage_id\u001b[49m\u001b[43m,\u001b[49m\u001b[43m \u001b[49m\u001b[43mbboxes\u001b[49m\u001b[43m)\u001b[49m\n",
      "Cell \u001b[0;32mIn[2], line 17\u001b[0m, in \u001b[0;36mvisualize_image_with_bboxes\u001b[0;34m(image_id, bboxes)\u001b[0m\n\u001b[1;32m     14\u001b[0m image_array \u001b[38;5;241m=\u001b[39m np\u001b[38;5;241m.\u001b[39marray(image)\n\u001b[1;32m     16\u001b[0m \u001b[38;5;66;03m# Separate the channels\u001b[39;00m\n\u001b[0;32m---> 17\u001b[0m red_channel \u001b[38;5;241m=\u001b[39m \u001b[43mimage_array\u001b[49m\u001b[43m[\u001b[49m\u001b[43m:\u001b[49m\u001b[43m,\u001b[49m\u001b[43m \u001b[49m\u001b[43m:\u001b[49m\u001b[43m,\u001b[49m\u001b[43m \u001b[49m\u001b[38;5;241;43m0\u001b[39;49m\u001b[43m]\u001b[49m\n\u001b[1;32m     18\u001b[0m green_channel \u001b[38;5;241m=\u001b[39m image_array[:, :, \u001b[38;5;241m1\u001b[39m]\n\u001b[1;32m     19\u001b[0m blue_channel \u001b[38;5;241m=\u001b[39m image_array[:, :, \u001b[38;5;241m2\u001b[39m]\n",
      "\u001b[0;31mIndexError\u001b[0m: too many indices for array: array is 2-dimensional, but 3 were indexed"
     ]
    }
   ],
   "source": [
    "# Load the YOLO output\n",
    "# Load the YOLO output\n",
    "yolo_output = [\n",
    "    {\"image_id\": \"4965141_25\", \"category_id\": 1, \"bbox\": [324.01, 663.128, 23.569, 20.206], \"score\": 0.12056}\n",
    "]\n",
    "root_path=\"/media/Datacenter_storage/PublicDatasets/cerebral_microbleeds_MAYO/mayo_t2s_png/images/test\"\n",
    "\n",
    "\n",
    "\n",
    "# Function to visualize the image with bounding boxes on separate channels\n",
    "def visualize_image_with_bboxes(image_id, bboxes):\n",
    "    image_path = os.path.join(root_path, f\"{image_id}.png\")\n",
    "    image = Image.open(image_path)\n",
    "    image_array = np.array(image)\n",
    "    \n",
    "    # Separate the channels\n",
    "    red_channel = image_array[:, :, 0]\n",
    "    green_channel = image_array[:, :, 1]\n",
    "    blue_channel = image_array[:, :, 2]\n",
    "\n",
    "    # Plot the channels with bounding boxes\n",
    "    plt.figure(figsize=(15, 5))\n",
    "\n",
    "    for i, (channel, cmap, title) in enumerate(zip([red_channel, green_channel, blue_channel], ['Reds', 'Greens', 'Blues'], ['T1', 'T2', 'T2S'])):\n",
    "        plt.subplot(1, 3, i + 1)\n",
    "        plt.imshow(channel, cmap='gray')\n",
    "        for bbox in bboxes:\n",
    "            x, y, width, height = bbox\n",
    "            # Increase the size of the bounding box\n",
    "            rect = plt.Rectangle((x - 2, y - 2), width + 4, height + 4, edgecolor='red', facecolor='none', linewidth=0.5)\n",
    "            plt.gca().add_patch(rect)\n",
    "        plt.title(title)\n",
    "        plt.axis('off')\n",
    "\n",
    "    plt.show()\n",
    "\n",
    "# Group bounding boxes by image_id\n",
    "bboxes_by_image = {}\n",
    "for item in yolo_output:\n",
    "    image_id = item['image_id']\n",
    "    bbox = item['bbox']\n",
    "    if image_id not in bboxes_by_image:\n",
    "        bboxes_by_image[image_id] = []\n",
    "    bboxes_by_image[image_id].append(bbox)\n",
    "\n",
    "# Visualize each image with its bounding boxes on separate channels\n",
    "for image_id, bboxes in bboxes_by_image.items():\n",
    "    visualize_image_with_bboxes(image_id, bboxes)"
   ]
  },
  {
   "cell_type": "code",
   "execution_count": null,
   "metadata": {},
   "outputs": [
    {
     "name": "stdout",
     "output_type": "stream",
     "text": [
      "Found 0 non-empty text files:\n"
     ]
    }
   ],
   "source": [
    "def find_nonempty_text_files(directory):\n",
    "    \"\"\"\n",
    "    Find all non-empty .txt files in a directory\n",
    "    Returns a list of file names\n",
    "    \"\"\"\n",
    "    nonempty_files = []\n",
    "    dir_path = Path(directory)\n",
    "    \n",
    "    # Find all .txt files\n",
    "    for txt_file in dir_path.glob(\"*.txt\"):\n",
    "        # Check if file is not empty\n",
    "        if txt_file.stat().st_size > 0:\n",
    "            with open(txt_file, 'r') as f:\n",
    "                content = f.read().strip()\n",
    "                if content:  # Check if there's actual content after stripping whitespace\n",
    "                    nonempty_files.append(txt_file.name)\n",
    "    \n",
    "    return sorted(nonempty_files)  # Sort alphabetically\n",
    "\n",
    "task = \"val\"\n",
    "directory = '/mnt/storage/ji/brain_mri_valdo_mayo/valdo_resample_ALFA_YOLO_PNG/labels/val'\n",
    "# directory = f\"{root_path}/labels/{task}\"  # Replace with your folder path\n",
    "nonempty_files = find_nonempty_text_files(directory)\n",
    "\n",
    "print(f\"Found {len(nonempty_files)} non-empty text files:\")\n",
    "for filename in nonempty_files:\n",
    "    print(f\"- {filename}\")"
   ]
  }
 ],
 "metadata": {
  "kernelspec": {
   "display_name": "biomedparse",
   "language": "python",
   "name": "python3"
  },
  "language_info": {
   "codemirror_mode": {
    "name": "ipython",
    "version": 3
   },
   "file_extension": ".py",
   "mimetype": "text/x-python",
   "name": "python",
   "nbconvert_exporter": "python",
   "pygments_lexer": "ipython3",
   "version": "3.9.23"
  }
 },
 "nbformat": 4,
 "nbformat_minor": 2
}
