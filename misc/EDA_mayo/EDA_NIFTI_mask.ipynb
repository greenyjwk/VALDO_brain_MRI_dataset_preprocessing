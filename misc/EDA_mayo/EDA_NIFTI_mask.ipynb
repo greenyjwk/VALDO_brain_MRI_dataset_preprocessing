{
 "cells": [
  {
   "cell_type": "code",
   "execution_count": 1,
   "metadata": {},
   "outputs": [],
   "source": [
    "import nibabel as nib\n",
    "import matplotlib.pyplot as plt"
   ]
  },
  {
   "cell_type": "code",
   "execution_count": 2,
   "metadata": {},
   "outputs": [
    {
     "name": "stdout",
     "output_type": "stream",
     "text": [
      "4\n"
     ]
    }
   ],
   "source": [
    "mrn = 4817777\n",
    "slice = 29\n",
    "slice_T2S= int(44 * (slice/256))\n",
    "print(slice_T2S)\n",
    "root = \"/media/Datacenter_storage/Ji/csf_segment\"\n",
    "sub_root =\"mayo_skull_stripped_resampled_0325_TEMP\"\n",
    "# sub_root =\"mayo_registered_resampled_0325\"\n",
    "# /media/Datacenter_storage/Ji/brain_mri_valdo_mayo/mayo_bias_field_correction_resampled_0325/5820695\n",
    "# /media/Datacenter_storage/Ji/brain_mri_valdo_mayo/mayo_skull_stripped_resampled_0325/5820695\n",
    "# /media/Datacenter_storage/Ji/brain_mri_valdo_mayo/mayo_registered_resampled_0325/10863578"
   ]
  },
  {
   "cell_type": "code",
   "execution_count": 3,
   "metadata": {},
   "outputs": [
    {
     "ename": "FileNotFoundError",
     "evalue": "No such file or no access: '/media/Datacenter_storage/Ji/csf_segment/4817777/T1_seg_0.nii.gz'",
     "output_type": "error",
     "traceback": [
      "\u001b[0;31m---------------------------------------------------------------------------\u001b[0m",
      "\u001b[0;31mFileNotFoundError\u001b[0m                         Traceback (most recent call last)",
      "File \u001b[0;32m/media/Datacenter_storage/Ji/miniconda3/envs/brainIMG/lib/python3.8/site-packages/nibabel/loadsave.py:87\u001b[0m, in \u001b[0;36mload\u001b[0;34m(filename, **kwargs)\u001b[0m\n\u001b[1;32m     86\u001b[0m \u001b[38;5;28;01mtry\u001b[39;00m:\n\u001b[0;32m---> 87\u001b[0m     stat_result \u001b[38;5;241m=\u001b[39m \u001b[43mos\u001b[49m\u001b[38;5;241;43m.\u001b[39;49m\u001b[43mstat\u001b[49m\u001b[43m(\u001b[49m\u001b[43mfilename\u001b[49m\u001b[43m)\u001b[49m\n\u001b[1;32m     88\u001b[0m \u001b[38;5;28;01mexcept\u001b[39;00m \u001b[38;5;167;01mOSError\u001b[39;00m:\n",
      "\u001b[0;31mFileNotFoundError\u001b[0m: [Errno 2] No such file or directory: '/media/Datacenter_storage/Ji/csf_segment/4817777/T1_seg_0.nii.gz'",
      "\nDuring handling of the above exception, another exception occurred:\n",
      "\u001b[0;31mFileNotFoundError\u001b[0m                         Traceback (most recent call last)",
      "Cell \u001b[0;32mIn[3], line 3\u001b[0m\n\u001b[1;32m      1\u001b[0m img_path0 \u001b[38;5;241m=\u001b[39m \u001b[38;5;124mf\u001b[39m\u001b[38;5;124m\"\u001b[39m\u001b[38;5;132;01m{\u001b[39;00mroot\u001b[38;5;132;01m}\u001b[39;00m\u001b[38;5;124m/\u001b[39m\u001b[38;5;132;01m{\u001b[39;00mmrn\u001b[38;5;132;01m}\u001b[39;00m\u001b[38;5;124m/T1_seg_0.nii.gz\u001b[39m\u001b[38;5;124m\"\u001b[39m\n\u001b[0;32m----> 3\u001b[0m img \u001b[38;5;241m=\u001b[39m \u001b[43mnib\u001b[49m\u001b[38;5;241;43m.\u001b[39;49m\u001b[43mload\u001b[49m\u001b[43m(\u001b[49m\u001b[43mimg_path0\u001b[49m\u001b[43m)\u001b[49m\n\u001b[1;32m      4\u001b[0m header\u001b[38;5;241m=\u001b[39mimg\u001b[38;5;241m.\u001b[39mheader\n\u001b[1;32m      5\u001b[0m \u001b[38;5;28mprint\u001b[39m(header[\u001b[38;5;124m'\u001b[39m\u001b[38;5;124mpixdim\u001b[39m\u001b[38;5;124m'\u001b[39m])\n",
      "File \u001b[0;32m/media/Datacenter_storage/Ji/miniconda3/envs/brainIMG/lib/python3.8/site-packages/nibabel/loadsave.py:89\u001b[0m, in \u001b[0;36mload\u001b[0;34m(filename, **kwargs)\u001b[0m\n\u001b[1;32m     87\u001b[0m     stat_result \u001b[38;5;241m=\u001b[39m os\u001b[38;5;241m.\u001b[39mstat(filename)\n\u001b[1;32m     88\u001b[0m \u001b[38;5;28;01mexcept\u001b[39;00m \u001b[38;5;167;01mOSError\u001b[39;00m:\n\u001b[0;32m---> 89\u001b[0m     \u001b[38;5;28;01mraise\u001b[39;00m \u001b[38;5;167;01mFileNotFoundError\u001b[39;00m(\u001b[38;5;124mf\u001b[39m\u001b[38;5;124m\"\u001b[39m\u001b[38;5;124mNo such file or no access: \u001b[39m\u001b[38;5;124m'\u001b[39m\u001b[38;5;132;01m{\u001b[39;00mfilename\u001b[38;5;132;01m}\u001b[39;00m\u001b[38;5;124m'\u001b[39m\u001b[38;5;124m\"\u001b[39m)\n\u001b[1;32m     90\u001b[0m \u001b[38;5;28;01mif\u001b[39;00m stat_result\u001b[38;5;241m.\u001b[39mst_size \u001b[38;5;241m<\u001b[39m\u001b[38;5;241m=\u001b[39m \u001b[38;5;241m0\u001b[39m:\n\u001b[1;32m     91\u001b[0m     \u001b[38;5;28;01mraise\u001b[39;00m ImageFileError(\u001b[38;5;124mf\u001b[39m\u001b[38;5;124m\"\u001b[39m\u001b[38;5;124mEmpty file: \u001b[39m\u001b[38;5;124m'\u001b[39m\u001b[38;5;132;01m{\u001b[39;00mfilename\u001b[38;5;132;01m}\u001b[39;00m\u001b[38;5;124m'\u001b[39m\u001b[38;5;124m\"\u001b[39m)\n",
      "\u001b[0;31mFileNotFoundError\u001b[0m: No such file or no access: '/media/Datacenter_storage/Ji/csf_segment/4817777/T1_seg_0.nii.gz'"
     ]
    }
   ],
   "source": [
    "img_path0 = f\"{root}/{mrn}/T1_seg_0.nii.gz\"\n",
    "\n",
    "img = nib.load(img_path0)\n",
    "header=img.header\n",
    "print(header['pixdim'])\n",
    "\n",
    "img = img.get_fdata()\n",
    "print(img.shape)\n",
    "\n",
    "plt.imshow(img[:, :, slice], cmap='gray')"
   ]
  },
  {
   "cell_type": "code",
   "execution_count": null,
   "metadata": {},
   "outputs": [],
   "source": [
    "img_path1 = f\"/media/Datacenter_storage/Ji/brain_mri_valdo_mayo/{sub_root}/{mrn}/3D_SAG_T1_MPRAGE_1MM_{mrn}.nii.gz\"\n",
    "img = nib.load(img_path1)\n",
    "header=img.header\n",
    "print(header['pixdim'])\n",
    "\n",
    "img = img.get_fdata()\n",
    "print(img.shape)\n",
    "\n",
    "plt.imshow(img[:, :, slice], cmap='gray')"
   ]
  },
  {
   "cell_type": "code",
   "execution_count": null,
   "metadata": {},
   "outputs": [],
   "source": [
    "img_path2 = f\"/media/Datacenter_storage/Ji/brain_mri_valdo_mayo/{sub_root}/{mrn}/SAG_3D_T2_SPACE_{mrn}.nii.gz\"\n",
    "img = nib.load(img_path2)\n",
    "header=img.header\n",
    "print(header['pixdim'])\n",
    "img = img.get_fdata()\n",
    "print(img.shape)\n",
    "plt.imshow(img[:, :, slice], cmap='gray')"
   ]
  },
  {
   "cell_type": "code",
   "execution_count": null,
   "metadata": {},
   "outputs": [],
   "source": [
    "img_path3 = f\"/media/Datacenter_storage/Ji/brain_mri_valdo_mayo/{sub_root}/{mrn}/Axial_3TE_T2_STAR_{mrn}.nii.gz\"\n",
    "img = nib.load(img_path3)\n",
    "header=img.header\n",
    "print(header['pixdim'])\n",
    "img = img.get_fdata()\n",
    "print(img.shape)\n",
    "plt.imshow(img[:, :, slice, 2], cmap='gray')"
   ]
  },
  {
   "cell_type": "code",
   "execution_count": null,
   "metadata": {},
   "outputs": [],
   "source": [
    "import matplotlib.pyplot as plt\n",
    "import nibabel as nib\n",
    "\n",
    "# File paths for the three images\n",
    "# img_path1 = f\"/media/Datacenter_storage/Ji/brain_mri_valdo_mayo/{sub_root}/{mrn}/Axial_3TE_T2_STAR_{mrn}_1.nii.gz\"\n",
    "# img_path2 = f\"/media/Datacenter_storage/Ji/brain_mri_valdo_mayo/{sub_root}/{mrn}/Axial_3TE_T2_STAR_{mrn}_2.nii.gz\"\n",
    "# img_path3 = f\"/media/Datacenter_storage/Ji/brain_mri_valdo_mayo/{sub_root}/{mrn}/Axial_3TE_T2_STAR_{mrn}_3.nii.gz\"\n",
    "\n",
    "# Load images\n",
    "img0 = nib.load(img_path0).get_fdata()\n",
    "img1 = nib.load(img_path1).get_fdata()\n",
    "img2 = nib.load(img_path2).get_fdata()\n",
    "img3 = nib.load(img_path3).get_fdata()\n",
    "\n",
    "# Select a slice to display\n",
    "# Create a figure with three subplots\n",
    "plt.figure(figsize=(15, 5))\n",
    "\n",
    "# Plot the first image\n",
    "plt.subplot(1, 4, 1)\n",
    "plt.imshow(img0[:, :, slice], cmap='gray')\n",
    "plt.title(\"csf\")\n",
    "plt.axis('off')\n",
    "\n",
    "# Plot the first image\n",
    "plt.subplot(1, 4, 2)\n",
    "plt.imshow(img1[:, :, slice], cmap='gray')\n",
    "plt.title(\"T1\")\n",
    "plt.axis('off')\n",
    "\n",
    "# Plot the second image\n",
    "plt.subplot(1, 4, 3)\n",
    "plt.imshow(img2[:, :, slice], cmap='gray')\n",
    "plt.title(\"T2\")\n",
    "plt.axis('off')\n",
    "\n",
    "# Plot the third image\n",
    "plt.subplot(1, 4, 4)\n",
    "plt.imshow(img3[:, :, slice, 2], cmap='gray')\n",
    "plt.title(\"T2*\")\n",
    "plt.axis('off')\n",
    "\n",
    "# Show the combined plot\n",
    "plt.tight_layout()\n",
    "plt.show()"
   ]
  },
  {
   "cell_type": "code",
   "execution_count": null,
   "metadata": {},
   "outputs": [],
   "source": [
    "img_path_0 = f\"/media/Datacenter_storage/Ji/csf_segment/{mrn}/T1_seg_0.nii.gz\"\n",
    "img_0 = nib.load(img_path_0)\n",
    "header=img_0.header\n",
    "print(header['pixdim'])\n",
    "\n",
    "img_0 = img_0.get_fdata()\n",
    "print(img_0.shape)\n",
    "\n",
    "img_path_1 = f\"/media/Datacenter_storage/Ji/csf_segment/{mrn}/T1_seg_1.nii.gz\"\n",
    "img_1 = nib.load(img_path_1)\n",
    "header=img_1.header\n",
    "print(header['pixdim'])\n",
    "\n",
    "img_1 = img_1.get_fdata()\n",
    "print(img_1.shape)\n",
    "\n",
    "plt.figure(figsize=(10, 5))\n",
    "\n",
    "plt.subplot(1,2,1)\n",
    "plt.imshow(img_0[:, :, slice], cmap='gray')\n",
    "\n",
    "plt.subplot(1,2,2)\n",
    "plt.imshow(img_1[:, :, slice], cmap='gray')"
   ]
  }
 ],
 "metadata": {
  "kernelspec": {
   "display_name": "brainIMG",
   "language": "python",
   "name": "python3"
  },
  "language_info": {
   "codemirror_mode": {
    "name": "ipython",
    "version": 3
   },
   "file_extension": ".py",
   "mimetype": "text/x-python",
   "name": "python",
   "nbconvert_exporter": "python",
   "pygments_lexer": "ipython3",
   "version": "3.8.20"
  }
 },
 "nbformat": 4,
 "nbformat_minor": 2
}
