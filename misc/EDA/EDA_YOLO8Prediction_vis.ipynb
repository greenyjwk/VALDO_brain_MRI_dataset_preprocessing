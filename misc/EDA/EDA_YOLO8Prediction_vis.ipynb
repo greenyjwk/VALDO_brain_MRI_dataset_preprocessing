{
 "cells": [
  {
   "cell_type": "code",
   "execution_count": 7,
   "metadata": {},
   "outputs": [],
   "source": [
    "from PIL import Image\n",
    "from pathlib import Path\n",
    "import matplotlib.pyplot as plt\n",
    "import numpy as np\n",
    "import os"
   ]
  },
  {
   "cell_type": "code",
   "execution_count": null,
   "metadata": {},
   "outputs": [
    {
     "ename": "IndexError",
     "evalue": "too many indices for array: array is 2-dimensional, but 3 were indexed",
     "output_type": "error",
     "traceback": [
      "\u001b[0;31m---------------------------------------------------------------------------\u001b[0m",
      "\u001b[0;31mIndexError\u001b[0m                                Traceback (most recent call last)",
      "Cell \u001b[0;32mIn[8], line 47\u001b[0m\n\u001b[1;32m     45\u001b[0m \u001b[38;5;66;03m# Visualize each image with its bounding boxes on separate channels\u001b[39;00m\n\u001b[1;32m     46\u001b[0m \u001b[38;5;28;01mfor\u001b[39;00m image_id, bboxes \u001b[38;5;129;01min\u001b[39;00m bboxes_by_image\u001b[38;5;241m.\u001b[39mitems():\n\u001b[0;32m---> 47\u001b[0m     \u001b[43mvisualize_image_with_bboxes\u001b[49m\u001b[43m(\u001b[49m\u001b[43mimage_id\u001b[49m\u001b[43m,\u001b[49m\u001b[43m \u001b[49m\u001b[43mbboxes\u001b[49m\u001b[43m)\u001b[49m\n",
      "Cell \u001b[0;32mIn[8], line 16\u001b[0m, in \u001b[0;36mvisualize_image_with_bboxes\u001b[0;34m(image_id, bboxes)\u001b[0m\n\u001b[1;32m     13\u001b[0m image_array \u001b[38;5;241m=\u001b[39m np\u001b[38;5;241m.\u001b[39marray(image)\n\u001b[1;32m     15\u001b[0m \u001b[38;5;66;03m# Separate the channels\u001b[39;00m\n\u001b[0;32m---> 16\u001b[0m red_channel \u001b[38;5;241m=\u001b[39m \u001b[43mimage_array\u001b[49m\u001b[43m[\u001b[49m\u001b[43m:\u001b[49m\u001b[43m,\u001b[49m\u001b[43m \u001b[49m\u001b[43m:\u001b[49m\u001b[43m,\u001b[49m\u001b[43m \u001b[49m\u001b[38;5;241;43m0\u001b[39;49m\u001b[43m]\u001b[49m\n\u001b[1;32m     17\u001b[0m green_channel \u001b[38;5;241m=\u001b[39m image_array[:, :, \u001b[38;5;241m1\u001b[39m]\n\u001b[1;32m     18\u001b[0m blue_channel \u001b[38;5;241m=\u001b[39m image_array[:, :, \u001b[38;5;241m2\u001b[39m]\n",
      "\u001b[0;31mIndexError\u001b[0m: too many indices for array: array is 2-dimensional, but 3 were indexed"
     ]
    }
   ],
   "source": [
    "# Load the YOLO output\n",
    "yolo_output = [\n",
    "#    {\"image_id\": \"sub-321_slice_018\", \"category_id\": 1, \"bbox\": [222.947, 194.359, 7.931, 8.588], \"score\": 0.63284}, {\"image_id\": \"sub-321_slice_018\", \"category_id\": 1, \"bbox\": [283.936, 366.149, 9.033, 9.357], \"score\": 0.01827}, {\"image_id\": \"sub-321_slice_018\", \"category_id\": 1, \"bbox\": [205.068, 258.838, 7.633, 8.577], \"score\": 0.00892}, {\"image_id\": \"sub-321_slice_018\", \"category_id\": 1, \"bbox\": [274.264, 236.673, 6.779, 7.757], \"score\": 0.00058}, {\"image_id\": \"sub-321_slice_018\", \"category_id\": 1, \"bbox\": [277.667, 177.755, 7.445, 8.424], \"score\": 0.00049}, {\"image_id\": \"sub-321_slice_018\", \"category_id\": 1, \"bbox\": [274.64, 202.874, 6.467, 7.214], \"score\": 0.00034}, {\"image_id\": \"sub-321_slice_018\", \"category_id\": 1, \"bbox\": [301.251, 206.716, 7.419, 7.358], \"score\": 0.00028}, {\"image_id\": \"sub-321_slice_018\", \"category_id\": 1, \"bbox\": [0.0, 512.0, 0.0, 0.0], \"score\": 0.00024}, {\"image_id\": \"sub-321_slice_018\", \"category_id\": 1, \"bbox\": [112.213, 167.833, 18.69, 19.638], \"score\": 0.00024}, {\"image_id\": \"sub-321_slice_018\", \"category_id\": 1, \"bbox\": [141.656, 269.37, 10.858, 11.521], \"score\": 0.0002}, {\"image_id\": \"sub-321_slice_018\", \"category_id\": 1, \"bbox\": [308.816, 337.506, 7.816, 9.416], \"score\": 0.00019}, {\"image_id\": \"sub-321_slice_018\", \"category_id\": 1, \"bbox\": [238.329, 296.99, 8.67, 9.492], \"score\": 0.00013}, {\"image_id\": \"sub-321_slice_018\", \"category_id\": 1, \"bbox\": [175.342, 294.867, 6.762, 7.178], \"score\": 0.0001}, {\"image_id\": \"sub-321_slice_018\", \"category_id\": 1, \"bbox\": [124.88, 254.91, 14.952, 16.966], \"score\": 7e-05}, {\"image_id\": \"sub-321_slice_018\", \"category_id\": 1, \"bbox\": [95.497, 182.921, 20.368, 23.429], \"score\": 6e-05}, {\"image_id\": \"sub-321_slice_018\", \"category_id\": 1, \"bbox\": [349.751, 185.729, 7.036, 8.075], \"score\": 5e-05}, {\"image_id\": \"sub-321_slice_018\", \"category_id\": 1, \"bbox\": [244.302, 370.028, 8.297, 8.115], \"score\": 5e-05}, {\"image_id\": \"sub-321_slice_018\", \"category_id\": 1, \"bbox\": [0.0, 0.0, 0.0, 0.0], \"score\": 5e-05}, {\"image_id\": \"sub-321_slice_018\", \"category_id\": 1, \"bbox\": [360.8, 231.895, 6.066, 6.653], \"score\": 5e-05}, {\"image_id\": \"sub-321_slice_018\", \"category_id\": 1, \"bbox\": [310.514, 179.851, 8.073, 8.761], \"score\": 2e-05}, {\"image_id\": \"sub-321_slice_018\", \"category_id\": 1, \"bbox\": [225.62, 237.071, 8.573, 10.386], \"score\": 2e-05}, {\"image_id\": \"sub-321_slice_018\", \"category_id\": 1, \"bbox\": [0.0, 499.874, 8.977, 12.126], \"score\": 2e-05}, {\"image_id\": \"sub-321_slice_018\", \"category_id\": 1, \"bbox\": [292.517, 330.656, 8.227, 9.205], \"score\": 2e-05}, {\"image_id\": \"sub-321_slice_018\", \"category_id\": 1, \"bbox\": [223.411, 277.092, 9.418, 9.476], \"score\": 2e-05}, {\"image_id\": \"sub-321_slice_018\", \"category_id\": 1, \"bbox\": [330.259, 325.146, 8.229, 9.64], \"score\": 1e-05}, {\"image_id\": \"sub-321_slice_018\", \"category_id\": 1, \"bbox\": [380.799, 165.686, 17.985, 20.033], \"score\": 1e-05}, {\"image_id\": \"sub-321_slice_018\", \"category_id\": 1, \"bbox\": [148.394, 279.213, 8.332, 10.163], \"score\": 1e-05}, {\"image_id\": \"sub-321_slice_018\", \"category_id\": 1, \"bbox\": [0.0, 0.0, 8.245, 10.681], \"score\": 1e-05}, {\"image_id\": \"sub-321_slice_018\", \"category_id\": 1, \"bbox\": [261.165, 272.652, 9.178, 10.77], \"score\": 1e-05}, {\"image_id\": \"sub-321_slice_018\", \"category_id\": 1, \"bbox\": [183.518, 213.709, 6.845, 7.636], \"score\": 1e-05}, {\"image_id\": \"sub-321_slice_018\", \"category_id\": 1, \"bbox\": [206.722, 185.184, 6.431, 7.648], \"score\": 1e-05}, {\"image_id\": \"sub-321_slice_018\", \"category_id\": 1, \"bbox\": [218.417, 318.807, 6.992, 7.359], \"score\": 1e-05}, {\"image_id\": \"sub-321_slice_018\", \"category_id\": 1, \"bbox\": [502.202, 512.0, 9.798, 0.0], \"score\": 1e-05}, {\"image_id\": \"sub-321_slice_018\", \"category_id\": 1, \"bbox\": [260.486, 350.968, 8.717, 10.035], \"score\": 1e-05}, {\"image_id\": \"sub-321_slice_018\", \"category_id\": 1, \"bbox\": [0.0, 512.0, 0.0, 0.0], \"score\": 1e-05}, {\"image_id\": \"sub-321_slice_018\", \"category_id\": 1, \"bbox\": [224.077, 185.944, 7.291, 8.113], \"score\": 1e-05}, {\"image_id\": \"sub-321_slice_018\", \"category_id\": 1, \"bbox\": [512.0, 512.0, 0.0, 0.0], \"score\": 1e-05}, {\"image_id\": \"sub-321_slice_018\", \"category_id\": 1, \"bbox\": [319.368, 267.906, 7.611, 8.695], \"score\": 1e-05}, {\"image_id\": \"sub-321_slice_018\", \"category_id\": 1, \"bbox\": [208.403, 347.102, 6.453, 7.416], \"score\": 1e-05}, {\"image_id\": \"sub-321_slice_018\", \"category_id\": 1, \"bbox\": [333.278, 260.5, 8.81, 8.971], \"score\": 1e-05},\n",
    "\n",
    "]\n",
    "\n",
    "# Root path of the images\n",
    "root_path = '/mnt/storage/ji/brain_mri_valdo_mayo/valdo_resample_ALFA_YOLO_PNG_ESRGAN_T2S_only/images/val'\n",
    "\n",
    "# Function to visualize the image with bounding boxes on separate channels\n",
    "def visualize_image_with_bboxes(image_id, bboxes):\n",
    "    image_path = os.path.join(root_path, f\"{image_id}.png\")\n",
    "    image = Image.open(image_path)\n",
    "    image_array = np.array(image)\n",
    "    \n",
    "    # Separate the channels\n",
    "    red_channel = image_array[:, :, 0]\n",
    "    green_channel = image_array[:, :, 1]\n",
    "    blue_channel = image_array[:, :, 2]\n",
    "\n",
    "    # Plot the channels with bounding boxes\n",
    "    plt.figure(figsize=(15, 5))\n",
    "\n",
    "    for i, (channel, cmap, title) in enumerate(zip([red_channel, green_channel, blue_channel], ['Reds', 'Greens', 'Blues'], ['T1', 'T2', 'T2S'])):\n",
    "        plt.subplot(1, 3, i + 1)\n",
    "        plt.imshow(channel, cmap='gray')\n",
    "        for bbox in bboxes:\n",
    "            x, y, width, height = bbox\n",
    "            # Increase the size of the bounding box\n",
    "            rect = plt.Rectangle((x - 2, y - 2), width + 4, height + 4, edgecolor='red', facecolor='none', linewidth=0.2)\n",
    "            plt.gca().add_patch(rect)\n",
    "        plt.title(title)\n",
    "        plt.axis('off')\n",
    "\n",
    "    plt.show()\n",
    "\n",
    "# Group bounding boxes by image_id\n",
    "bboxes_by_image = {}\n",
    "for item in yolo_output:\n",
    "    image_id = item['image_id']\n",
    "    bbox = item['bbox']\n",
    "    if image_id not in bboxes_by_image:\n",
    "        bboxes_by_image[image_id] = []\n",
    "    bboxes_by_image[image_id].append(bbox)\n",
    "\n",
    "# Visualize each image with its bounding boxes on separate channels\n",
    "for image_id, bboxes in bboxes_by_image.items():\n",
    "    visualize_image_with_bboxes(image_id, bboxes)"
   ]
  },
  {
   "cell_type": "code",
   "execution_count": null,
   "metadata": {},
   "outputs": [
    {
     "name": "stdout",
     "output_type": "stream",
     "text": [
      "Found 38 non-empty text files:\n",
      "- sub-103_slice_005.txt\n",
      "- sub-103_slice_017.txt\n",
      "- sub-103_slice_018.txt\n",
      "- sub-103_slice_019.txt\n",
      "- sub-103_slice_020.txt\n",
      "- sub-103_slice_021.txt\n",
      "- sub-110_slice_011.txt\n",
      "- sub-110_slice_014.txt\n",
      "- sub-110_slice_018.txt\n",
      "- sub-110_slice_019.txt\n",
      "- sub-110_slice_020.txt\n",
      "- sub-110_slice_021.txt\n",
      "- sub-110_slice_022.txt\n",
      "- sub-110_slice_023.txt\n",
      "- sub-110_slice_024.txt\n",
      "- sub-110_slice_025.txt\n",
      "- sub-110_slice_026.txt\n",
      "- sub-110_slice_027.txt\n",
      "- sub-110_slice_028.txt\n",
      "- sub-110_slice_029.txt\n",
      "- sub-110_slice_030.txt\n",
      "- sub-110_slice_031.txt\n",
      "- sub-110_slice_032.txt\n",
      "- sub-111_slice_009.txt\n",
      "- sub-111_slice_018.txt\n",
      "- sub-111_slice_019.txt\n",
      "- sub-111_slice_020.txt\n",
      "- sub-217_slice_086.txt\n",
      "- sub-217_slice_087.txt\n",
      "- sub-217_slice_088.txt\n",
      "- sub-217_slice_089.txt\n",
      "- sub-232_slice_109.txt\n",
      "- sub-232_slice_110.txt\n",
      "- sub-308_slice_009.txt\n",
      "- sub-308_slice_010.txt\n",
      "- sub-317_slice_031.txt\n",
      "- sub-321_slice_018.txt\n",
      "- sub-321_slice_019.txt\n"
     ]
    }
   ],
   "source": [
    "def find_nonempty_text_files(directory):\n",
    "    \"\"\"\n",
    "    Find all non-empty .txt files in a directory\n",
    "    Returns a list of file names\n",
    "    \"\"\"\n",
    "    nonempty_files = []\n",
    "    dir_path = Path(directory)\n",
    "    \n",
    "    # Find all .txt files\n",
    "    for txt_file in dir_path.glob(\"*.txt\"):\n",
    "        # Check if file is not empty\n",
    "        if txt_file.stat().st_size > 0:\n",
    "            with open(txt_file, 'r') as f:\n",
    "                content = f.read().strip()\n",
    "                if content:  # Check if there's actual content after stripping whitespace\n",
    "                    nonempty_files.append(txt_file.name)\n",
    "    \n",
    "    return sorted(nonempty_files)  # Sort alphabetically\n",
    "\n",
    "task = \"val\"\n",
    "directory = '/mnt/storage/ji/brain_mri_valdo_mayo/valdo_resample_ALFA_YOLO_PNG/labels/val'\n",
    "# directory = f\"{root_path}/labels/{task}\"  # Replace with your folder path\n",
    "nonempty_files = find_nonempty_text_files(directory)\n",
    "\n",
    "print(f\"Found {len(nonempty_files)} non-empty text files:\")\n",
    "for filename in nonempty_files:\n",
    "    print(f\"- {filename}\")"
   ]
  }
 ],
 "metadata": {
  "kernelspec": {
   "display_name": "brainIMG",
   "language": "python",
   "name": "python3"
  },
  "language_info": {
   "codemirror_mode": {
    "name": "ipython",
    "version": 3
   },
   "file_extension": ".py",
   "mimetype": "text/x-python",
   "name": "python",
   "nbconvert_exporter": "python",
   "pygments_lexer": "ipython3",
   "version": "3.11.5"
  }
 },
 "nbformat": 4,
 "nbformat_minor": 2
}
