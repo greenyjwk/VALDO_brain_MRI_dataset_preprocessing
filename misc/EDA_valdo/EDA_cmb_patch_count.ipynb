{
 "cells": [
  {
   "cell_type": "code",
   "execution_count": 14,
   "metadata": {},
   "outputs": [],
   "source": [
    "from pathlib import Path\n",
    "import os"
   ]
  },
  {
   "cell_type": "code",
   "execution_count": 15,
   "metadata": {},
   "outputs": [],
   "source": [
    "def count_total_lines(folder_path):\n",
    "    folder = Path(folder_path)\n",
    "    if not folder.exists() or not folder.is_dir():\n",
    "        raise ValueError(f\"Invalid folder path: {folder_path}\")\n",
    "    total_lines = 0\n",
    "    total_slices = 0\n",
    "    txt_files = folder.glob('*.txt')\n",
    "    \n",
    "    for file_path in txt_files:\n",
    "        total_slices += 1\n",
    "        try:\n",
    "            with open(file_path, 'r', encoding='utf-8') as f:\n",
    "                total_lines += sum(1 for line in f if line.strip())\n",
    "        except Exception as e:\n",
    "            print(f\"Skipped {file_path.name}: {e}\")\n",
    "            continue\n",
    "    return total_lines, total_slices"
   ]
  },
  {
   "cell_type": "code",
   "execution_count": 16,
   "metadata": {},
   "outputs": [
    {
     "name": "stdout",
     "output_type": "stream",
     "text": [
      "\n",
      "[Train]Total number of slices: 1000\n",
      "\n",
      "[Train]Total number of cmb patches: 447\n",
      "\n",
      "\n",
      "[Val]Total number of slices: 1226\n",
      "\n",
      "[Val]Total number of cmb patches: 126\n"
     ]
    }
   ],
   "source": [
    "train_folder_path = \"/media/Datacenter_storage/Ji/valdo_dataset/valdo_distrSampled_GAN_T1T2/labels/train\"\n",
    "val_folder_path = \"/media/Datacenter_storage/Ji/valdo_dataset/valdo_distrSampled_GAN_T1T2/labels/val\"\n",
    "try:\n",
    "    total, total_slices = count_total_lines(train_folder_path)\n",
    "    print(f\"\\n[Train]Total number of slices: {total_slices}\")\n",
    "    print(f\"\\n[Train]Total number of cmb patches: {total}\")\n",
    "    print()\n",
    "    total, total_slices = count_total_lines(val_folder_path)\n",
    "    print(f\"\\n[Val]Total number of slices: {total_slices}\")\n",
    "    print(f\"\\n[Val]Total number of cmb patches: {total}\")\n",
    "except ValueError as e:\n",
    "    print(f\"Error: {e}\")"
   ]
  },
  {
   "cell_type": "code",
   "execution_count": 17,
   "metadata": {},
   "outputs": [
    {
     "name": "stdout",
     "output_type": "stream",
     "text": [
      "Found 324 non-empty text files:\n",
      "train: 324\n",
      "\n",
      "Found 40 non-empty text files:\n",
      "val: 40\n"
     ]
    }
   ],
   "source": [
    "def find_nonempty_text_files(directory):\n",
    "    nonempty_files = []\n",
    "    dir_path = Path(directory)\n",
    "    for txt_file in dir_path.glob(\"*.txt\"):\n",
    "        if txt_file.stat().st_size > 0:\n",
    "            with open(txt_file, 'r') as f:\n",
    "                content = f.read().strip()\n",
    "                if content:  # Check if there's actual content after stripping whitespace\n",
    "                    nonempty_files.append(txt_file.name)  \n",
    "    return sorted(nonempty_files)  # Sort alphabetically\n",
    "\n",
    "task = \"train\"\n",
    "# directory = f\"{root_path}/labels/{task}\"  # Replace with your folder path\n",
    "directory_train = train_folder_path\n",
    "directory_val = val_folder_path\n",
    "nonempty_files_train = find_nonempty_text_files(directory_train)\n",
    "nonempty_files_val = find_nonempty_text_files(directory_val)\n",
    "\n",
    "count_train = 0\n",
    "print(f\"Found {len(nonempty_files_train)} non-empty text files:\")\n",
    "for filename in nonempty_files_train:\n",
    "    count_train += 1\n",
    "print(\"train:\", count_train)\n",
    "\n",
    "print()\n",
    "count_val = 0\n",
    "print(f\"Found {len(nonempty_files_val)} non-empty text files:\")\n",
    "for filename in nonempty_files_val:\n",
    "    count_val += 1\n",
    "print(\"val:\", count_val)"
   ]
  },
  {
   "cell_type": "code",
   "execution_count": 19,
   "metadata": {},
   "outputs": [
    {
     "name": "stdout",
     "output_type": "stream",
     "text": [
      "Unique UIDs:  12\n"
     ]
    }
   ],
   "source": [
    "directory = \"/media/Datacenter_storage/Ji/valdo_dataset/valdo_distrSampled_GAN_T1T2/labels/val\"\n",
    "\n",
    "uid_set = set()\n",
    "for path in os.listdir(directory):\n",
    "    uid = path.split(\"_\")[0]\n",
    "    uid_set.add(uid)\n",
    "\n",
    "print(\"Unique UIDs: \", len(uid_set))"
   ]
  }
 ],
 "metadata": {
  "kernelspec": {
   "display_name": "brainIMG",
   "language": "python",
   "name": "python3"
  },
  "language_info": {
   "codemirror_mode": {
    "name": "ipython",
    "version": 3
   },
   "file_extension": ".py",
   "mimetype": "text/x-python",
   "name": "python",
   "nbconvert_exporter": "python",
   "pygments_lexer": "ipython3",
   "version": "3.8.20"
  }
 },
 "nbformat": 4,
 "nbformat_minor": 2
}
