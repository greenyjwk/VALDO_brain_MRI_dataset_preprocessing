{
 "cells": [
  {
   "cell_type": "code",
   "execution_count": 55,
   "id": "9928c264",
   "metadata": {},
   "outputs": [],
   "source": [
    "import nibabel as nib\n",
    "import numpy as np\n",
    "import matplotlib.pyplot as plt"
   ]
  },
  {
   "cell_type": "code",
   "execution_count": 56,
   "id": "826b9d12",
   "metadata": {},
   "outputs": [],
   "source": [
    "slice_num = 30\n",
    "uid = 320"
   ]
  },
  {
   "cell_type": "markdown",
   "id": "9c9ab55a",
   "metadata": {},
   "source": [
    "### Original Valdo NIFTI"
   ]
  },
  {
   "cell_type": "code",
   "execution_count": 57,
   "id": "ad4a701c",
   "metadata": {},
   "outputs": [
    {
     "name": "stdout",
     "output_type": "stream",
     "text": [
      "\n",
      "<class 'nibabel.nifti1.Nifti1Image'>\n",
      "data shape (512, 512, 192)\n",
      "affine:\n",
      "[[ -0.48828101   0.           0.         124.7559967 ]\n",
      " [  0.           0.48828101   0.         -93.78059387]\n",
      " [  0.           0.           0.80000001 -51.12260056]\n",
      " [  0.           0.           0.           1.        ]]\n",
      "metadata:\n",
      "<class 'nibabel.nifti1.Nifti1Header'> object, endian='<'\n",
      "sizeof_hdr      : 348\n",
      "data_type       : np.bytes_(b'')\n",
      "db_name         : np.bytes_(b'')\n",
      "extents         : 0\n",
      "session_error   : 0\n",
      "regular         : np.bytes_(b'r')\n",
      "dim_info        : 0\n",
      "dim             : [  3 512 512 192   0   0   0   0]\n",
      "intent_p1       : 0.0\n",
      "intent_p2       : 0.0\n",
      "intent_p3       : 0.0\n",
      "intent_code     : none\n",
      "datatype        : float32\n",
      "bitpix          : 32\n",
      "slice_start     : 0\n",
      "pixdim          : [1.       0.488281 0.488281 0.8      0.       0.       0.       0.      ]\n",
      "vox_offset      : 0.0\n",
      "scl_slope       : nan\n",
      "scl_inter       : nan\n",
      "slice_end       : 0\n",
      "slice_code      : unknown\n",
      "xyzt_units      : 2\n",
      "cal_max         : 0.0\n",
      "cal_min         : 0.0\n",
      "slice_duration  : 0.0\n",
      "toffset         : 0.0\n",
      "glmax           : 0\n",
      "glmin           : 0\n",
      "descrip         : np.bytes_(b'/opt/minc/1.9.18/bin/mnc2nii sub-206_T2S_correct.mnc sub-206/sub-206_space-T2S_')\n",
      "aux_file        : np.bytes_(b'')\n",
      "qform_code      : unknown\n",
      "sform_code      : scanner\n",
      "quatern_b       : 0.0\n",
      "quatern_c       : 0.0\n",
      "quatern_d       : 0.0\n",
      "qoffset_x       : 0.0\n",
      "qoffset_y       : 0.0\n",
      "qoffset_z       : 0.0\n",
      "srow_x          : [ -0.488281   0.         0.       124.756   ]\n",
      "srow_y          : [  0.         0.488281   0.       -93.780594]\n",
      "srow_z          : [  0.       0.       0.8    -51.1226]\n",
      "intent_name     : np.bytes_(b'')\n",
      "magic           : np.bytes_(b'n+1')\n",
      "\n"
     ]
    }
   ],
   "source": [
    "original_file_path = f\"/media/Datacenter_storage/PublicDatasets/cerebral_microbleeds_VALDO/T2_skull_stripped/sub-{uid}/sub-{uid}_space-T2S_desc-masked_T2S.nii.gz\"\n",
    "\n",
    "file_data = nib.load(original_file_path)\n",
    "print(file_data)\n",
    "file_data = file_data.get_fdata()"
   ]
  },
  {
   "cell_type": "code",
   "execution_count": 58,
   "id": "58225b5c",
   "metadata": {},
   "outputs": [
    {
     "data": {
      "text/plain": [
       "<matplotlib.image.AxesImage at 0x7fa6cc9016c0>"
      ]
     },
     "execution_count": 58,
     "metadata": {},
     "output_type": "execute_result"
    },
    {
     "data": {
      "image/png": "[encoded data removed]",
      "text/plain": [
       "<Figure size 1000x1000 with 1 Axes>"
      ]
     },
     "metadata": {},
     "output_type": "display_data"
    }
   ],
   "source": [
    "file_path_0 = f\"/media/Datacenter_storage/PublicDatasets/cerebral_microbleeds_VALDO/T2_skull_stripped/sub-{uid}/sub-{uid}_space-T2S_desc-masked_T2S.nii.gz\"\n",
    "\n",
    "file_0 = nib.load(file_path_0)\n",
    "img_0 = file_0.get_fdata()\n",
    "# print(np.unique(img_0))\n",
    "\n",
    "plt.figure(figsize=(10, 10))\n",
    "plt.subplot(1, 2, 1)\n",
    "\n",
    "plt.imshow(img_0[:, :, slice_num], cmap='gray')"
   ]
  },
  {
   "cell_type": "code",
   "execution_count": 59,
   "id": "18291c54",
   "metadata": {},
   "outputs": [],
   "source": [
    "# file_path_0 = f\"/mnt/storage/ji/csf_segment/{uid}/T1_seg_0.nii.gz\"\n",
    "# # file_path_0 = \"/mnt/storage/ji/brain_mri_valdo_mayo/valdo_resample_ALFA_bias_field_correction/sub-201/sub-201_space-T2S_desc-masked_T1.nii.gz\"\n",
    "\n",
    "# file_0 = nib.load(file_path_0)\n",
    "# img_0 = file_0.get_fdata()\n",
    "\n",
    "# plt.figure(figsize=(10, 10))\n",
    "# plt.subplot(1, 2, 1)\n",
    "# plt.imshow(np.rot90(img_0[:, :, slice_num]), cmap='gray')"
   ]
  },
  {
   "cell_type": "code",
   "execution_count": 60,
   "id": "be89a5cc",
   "metadata": {},
   "outputs": [
    {
     "ename": "NameError",
     "evalue": "name 'file_path' is not defined",
     "output_type": "error",
     "traceback": [
      "\u001b[0;31m---------------------------------------------------------------------------\u001b[0m",
      "\u001b[0;31mNameError\u001b[0m                                 Traceback (most recent call last)",
      "Cell \u001b[0;32mIn[60], line 2\u001b[0m\n\u001b[1;32m      1\u001b[0m \u001b[38;5;66;03m# /mnt/storage/ji/csf_segment/3/_seg_0.nii.gzfile_path = \"/mnt/storage/ji/brain_mri_valdo_mayo/valdo_resample_ALFA/sub-305/sub-305_space-T2S_desc-masked_T2S.nii.gz\"\u001b[39;00m\n\u001b[0;32m----> 2\u001b[0m file \u001b[38;5;241m=\u001b[39m nib\u001b[38;5;241m.\u001b[39mload(\u001b[43mfile_path\u001b[49m)\n\u001b[1;32m      3\u001b[0m img \u001b[38;5;241m=\u001b[39m file\u001b[38;5;241m.\u001b[39mget_fdata()\n\u001b[1;32m      4\u001b[0m \u001b[38;5;28mprint\u001b[39m(\u001b[38;5;124m\"\u001b[39m\u001b[38;5;124mimg.shape: \u001b[39m\u001b[38;5;124m\"\u001b[39m, img\u001b[38;5;241m.\u001b[39mshape)\n",
      "\u001b[0;31mNameError\u001b[0m: name 'file_path' is not defined"
     ]
    }
   ],
   "source": [
    "# /mnt/storage/ji/csf_segment/3/_seg_0.nii.gzfile_path = \"/mnt/storage/ji/brain_mri_valdo_mayo/valdo_resample_ALFA/sub-305/sub-305_space-T2S_desc-masked_T2S.nii.gz\"\n",
    "file = nib.load(file_path)\n",
    "img = file.get_fdata()\n",
    "print(\"img.shape: \", img.shape)\n",
    "print(np.unique(img))"
   ]
  },
  {
   "cell_type": "code",
   "execution_count": null,
   "id": "3c60d6b0",
   "metadata": {},
   "outputs": [],
   "source": [
    "plt.imshow(img[:, :, slice_num], cmap='gray')"
   ]
  }
 ],
 "metadata": {
  "kernelspec": {
   "display_name": "Python (medsam)",
   "language": "python",
   "name": "medsam"
  },
  "language_info": {
   "codemirror_mode": {
    "name": "ipython",
    "version": 3
   },
   "file_extension": ".py",
   "mimetype": "text/x-python",
   "name": "python",
   "nbconvert_exporter": "python",
   "pygments_lexer": "ipython3",
   "version": "3.10.18"
  }
 },
 "nbformat": 4,
 "nbformat_minor": 5
}
