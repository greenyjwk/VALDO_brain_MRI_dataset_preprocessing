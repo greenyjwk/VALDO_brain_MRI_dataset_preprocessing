{
 "cells": [
  {
   "cell_type": "code",
   "execution_count": 1,
   "id": "e43b5744",
   "metadata": {},
   "outputs": [],
   "source": [
    "import os\n",
    "import re\n",
    "import cv2\n",
    "import numpy as np\n",
    "from collections import defaultdict\n",
    "from tqdm import tqdm"
   ]
  },
  {
   "cell_type": "code",
   "execution_count": 2,
   "id": "d5de5900",
   "metadata": {},
   "outputs": [],
   "source": [
    "def parse_filename(filename):\n",
    "    match = re.match(r\"(\\d+)_([0-9]+)\\.png\", filename)\n",
    "    if match:\n",
    "        uid = match.group(1)\n",
    "        slice_num = int(match.group(2))\n",
    "        return uid, slice_num\n",
    "    return None, None\n",
    "\n",
    "def process_directory(input_dir):\n",
    "    files = [f for f in os.listdir(input_dir) if f.endswith('.png')]\n",
    "    files_by_uid = defaultdict(list)\n",
    "\n",
    "    # Group files by UID\n",
    "    for f in files:\n",
    "        uid, slice_num = parse_filename(f)\n",
    "        if uid is not None:\n",
    "            files_by_uid[uid].append((slice_num, f))\n",
    "\n",
    "    for uid, slice_list in tqdm(files_by_uid.items(), desc=f\"Processing {input_dir}\"):\n",
    "        slice_list.sort()  # Sort by slice number\n",
    "        \n",
    "        # Load all original grayscale images first\n",
    "        original_images = {}\n",
    "        for slice_num, fname in slice_list:\n",
    "            path = os.path.join(input_dir, fname)\n",
    "            img = cv2.imread(path, cv2.IMREAD_GRAYSCALE)\n",
    "            original_images[slice_num] = img\n",
    "\n",
    "        # Process interior slices only\n",
    "        for i in range(1, len(slice_list) - 1):\n",
    "            prev_num, prev_fname = slice_list[i - 1]\n",
    "            curr_num, curr_fname = slice_list[i]\n",
    "            next_num, next_fname = slice_list[i + 1]\n",
    "\n",
    "            img_prev = original_images[prev_num]\n",
    "            img_curr = original_images[curr_num]\n",
    "            img_next = original_images[next_num]\n",
    "\n",
    "            stacked = np.stack([img_prev, img_curr, img_next], axis=-1)\n",
    "\n",
    "            out_path = os.path.join(input_dir, curr_fname)\n",
    "            cv2.imwrite(out_path, stacked)\n",
    "\n",
    "        # Remove edge slices\n",
    "        os.remove(os.path.join(input_dir, slice_list[0][1]))\n",
    "        os.remove(os.path.join(input_dir, slice_list[-1][1]))\n"
   ]
  },
  {
   "cell_type": "code",
   "execution_count": 3,
   "id": "b61b1235",
   "metadata": {},
   "outputs": [
    {
     "name": "stderr",
     "output_type": "stream",
     "text": [
      "Processing /media/Datacenter_storage/Ji/brain_mri_valdo_mayo/mayo_yolo_t2s_only_rotated_GAN_3slices/images/test: 100%|██████████| 125/125 [02:43<00:00,  1.31s/it]\n"
     ]
    }
   ],
   "source": [
    "# Change this to match your directory\n",
    "base_path = \"/media/Datacenter_storage/Ji/brain_mri_valdo_mayo/mayo_yolo_t2s_only_rotated_GAN_3slices/images/test\"\n",
    "process_directory(base_path)"
   ]
  }
 ],
 "metadata": {
  "kernelspec": {
   "display_name": "brainIMG",
   "language": "python",
   "name": "python3"
  },
  "language_info": {
   "codemirror_mode": {
    "name": "ipython",
    "version": 3
   },
   "file_extension": ".py",
   "mimetype": "text/x-python",
   "name": "python",
   "nbconvert_exporter": "python",
   "pygments_lexer": "ipython3",
   "version": "3.8.20"
  }
 },
 "nbformat": 4,
 "nbformat_minor": 5
}
