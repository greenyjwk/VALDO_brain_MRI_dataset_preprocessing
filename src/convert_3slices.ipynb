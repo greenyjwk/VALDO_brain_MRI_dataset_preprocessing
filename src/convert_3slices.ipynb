{
 "cells": [
  {
   "cell_type": "code",
<<<<<<< Updated upstream
   "execution_count": 4,
   "id": "fbba5d4a",
=======
   "execution_count": 34,
   "id": "1df57699",
>>>>>>> Stashed changes
   "metadata": {},
   "outputs": [],
   "source": [
    "import os\n",
    "import re\n",
    "import cv2\n",
    "import numpy as np\n",
    "from collections import defaultdict\n",
<<<<<<< Updated upstream
    "from tqdm import tqdm"
=======
    "from tqdm import tqdm\n",
    "from PIL import Image\n",
    "import matplotlib.pyplot as plt"
>>>>>>> Stashed changes
   ]
  },
  {
   "cell_type": "code",
<<<<<<< Updated upstream
   "execution_count": 5,
   "id": "e8113548",
   "metadata": {},
   "outputs": [],
   "source": [
=======
   "execution_count": 35,
   "id": "df81d341",
   "metadata": {},
   "outputs": [],
   "source": [
    "\n",
>>>>>>> Stashed changes
    "def parse_filename(filename):\n",
    "    match = re.match(r\"sub-(\\d+)_slice_(\\d+)\\.png\", filename)\n",
    "    if match:\n",
    "        uid = match.group(1)\n",
    "        slice_num = int(match.group(2))\n",
    "        return uid, slice_num\n",
    "    return None, None\n",
    "\n",
    "def process_directory(input_dir):\n",
    "    files = [f for f in os.listdir(input_dir) if f.endswith('.png')]\n",
    "    files_by_uid = defaultdict(list)\n",
    "\n",
    "    # Group files by UID\n",
    "    for f in files:\n",
    "        uid, slice_num = parse_filename(f)\n",
    "        if uid is not None:\n",
    "            files_by_uid[uid].append((slice_num, f))\n",
    "\n",
    "    for uid, slice_list in tqdm(files_by_uid.items(), desc=f\"Processing {input_dir}\"):\n",
    "        slice_list.sort()\n",
    "        \n",
    "        # Load all original images into memory first\n",
    "        original_images = {}\n",
    "        for slice_num, fname in slice_list:\n",
    "            path = os.path.join(input_dir, fname)\n",
    "            img = cv2.imread(path, cv2.IMREAD_GRAYSCALE)\n",
    "            original_images[slice_num] = img\n",
    "\n",
    "        # Process interior slices only\n",
    "        for i in range(1, len(slice_list) - 1):\n",
    "            prev_num, prev_fname = slice_list[i - 1]\n",
    "            curr_num, curr_fname = slice_list[i]\n",
    "            next_num, next_fname = slice_list[i + 1]\n",
    "\n",
    "            # Stack original grayscale images from memory\n",
    "            img_prev = original_images[prev_num]\n",
    "            img_curr = original_images[curr_num]\n",
    "            img_next = original_images[next_num]\n",
    "\n",
    "            stacked = np.stack([img_prev, img_curr, img_next], axis=-1)\n",
    "\n",
    "            out_path = os.path.join(input_dir, curr_fname)\n",
    "            cv2.imwrite(out_path, stacked)\n",
    "\n",
    "        # Remove edge slices\n",
    "        os.remove(os.path.join(input_dir, slice_list[0][1]))\n",
    "        os.remove(os.path.join(input_dir, slice_list[-1][1]))"
   ]
  },
  {
   "cell_type": "code",
<<<<<<< Updated upstream
   "execution_count": 6,
   "id": "2c169997",
=======
   "execution_count": 36,
   "id": "94b6342b",
>>>>>>> Stashed changes
   "metadata": {},
   "outputs": [
    {
     "name": "stderr",
     "output_type": "stream",
     "text": [
<<<<<<< Updated upstream
      "Processing /media/Datacenter_storage/Ji/valdo_dataset/valdo_resample_ALFA_YOLO_PNG_epd_gt_box_t2s_GAN_3slices_cmbTrainOnly/images/val: 100%|██████████| 12/12 [01:40<00:00,  8.38s/it]\n"
=======
      "Processing /mnt/storage/ji/brain_mri_valdo_mayo/valdo_resample_ALFA_YOLO_PNG_epd_gt_box_t2s_GAN_3slices_cmbTrainOnly_trainValBoth/images/val:   0%|          | 0/12 [00:00<?, ?it/s]"
     ]
    },
    {
     "name": "stderr",
     "output_type": "stream",
     "text": [
      "Processing /mnt/storage/ji/brain_mri_valdo_mayo/valdo_resample_ALFA_YOLO_PNG_epd_gt_box_t2s_GAN_3slices_cmbTrainOnly_trainValBoth/images/val: 100%|██████████| 12/12 [05:19<00:00, 26.63s/it]\n"
>>>>>>> Stashed changes
     ]
    }
   ],
   "source": [
    "# Update these paths\n",
<<<<<<< Updated upstream
    "base_path = \"/media/Datacenter_storage/Ji/valdo_dataset/valdo_resample_ALFA_YOLO_PNG_epd_gt_box_t2s_GAN_3slices_cmbTrainOnly/images\"\n",
    "process_directory(os.path.join(base_path, \"val\"))"
   ]
=======
    "base_path = \"/mnt/storage/ji/brain_mri_valdo_mayo/valdo_resample_ALFA_YOLO_PNG_epd_gt_box_t2s_GAN_3slices_cmbTrainOnly_trainValBoth/images\"\n",
    "process_directory(os.path.join(base_path, \"val\"))"
   ]
  },
  {
   "cell_type": "code",
   "execution_count": 37,
   "id": "25b34375",
   "metadata": {},
   "outputs": [],
   "source": [
    "# img_path  = os.path.join(base_path, \"val\", \"sub-110_slice_030.png\")\n",
    "# img = Image.open(img_path)\n",
    "# img = np.array(img)\n",
    "# plt.imshow(img[:,:,2], cmap='gray')"
   ]
  },
  {
   "cell_type": "code",
   "execution_count": 38,
   "id": "c423c837",
   "metadata": {},
   "outputs": [],
   "source": [
    "# img_path  = img = Image.open(img_path)\n",
    "# img = np.array(img)\n",
    "# plt.imshow(img[:,:,2], cmap='gray')"
   ]
>>>>>>> Stashed changes
  }
 ],
 "metadata": {
  "kernelspec": {
   "display_name": "brainIMG",
   "language": "python",
   "name": "python3"
  },
  "language_info": {
   "codemirror_mode": {
    "name": "ipython",
    "version": 3
   },
   "file_extension": ".py",
   "mimetype": "text/x-python",
   "name": "python",
   "nbconvert_exporter": "python",
   "pygments_lexer": "ipython3",
<<<<<<< Updated upstream
   "version": "3.8.20"
=======
   "version": "3.11.5"
>>>>>>> Stashed changes
  }
 },
 "nbformat": 4,
 "nbformat_minor": 5
}
